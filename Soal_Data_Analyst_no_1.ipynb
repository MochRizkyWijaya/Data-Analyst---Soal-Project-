{
  "nbformat": 4,
  "nbformat_minor": 0,
  "metadata": {
    "colab": {
      "name": "Soal Data Analyst no 1.ipynb",
      "version": "0.3.2",
      "provenance": [],
      "collapsed_sections": []
    },
    "kernelspec": {
      "name": "python3",
      "display_name": "Python 3"
    }
  },
  "cells": [
    {
      "cell_type": "markdown",
      "metadata": {
        "id": "jYOgPHl878H7",
        "colab_type": "text"
      },
      "source": [
        "# Import Library"
      ]
    },
    {
      "cell_type": "code",
      "metadata": {
        "id": "Y4Wp2ZQt7tpJ",
        "colab_type": "code",
        "colab": {}
      },
      "source": [
        "import numpy as np\n",
        "import pandas as pd\n",
        "import matplotlib.pyplot as plt\n",
        "from statistics import mean\n",
        "%matplotlib inline\n",
        "from sklearn.linear_model import LinearRegression\n",
        "import datetime as dt\n",
        "import seaborn as sns\n",
        "import time\n",
        "import IPython\n",
        "from scipy import stats"
      ],
      "execution_count": 0,
      "outputs": []
    },
    {
      "cell_type": "markdown",
      "metadata": {
        "id": "LNnG9Mg18hAC",
        "colab_type": "text"
      },
      "source": [
        "# Download Data Inflasi Indonesia"
      ]
    },
    {
      "cell_type": "code",
      "metadata": {
        "id": "kuOwWIPe8YQo",
        "colab_type": "code",
        "outputId": "37602fd0-cf17-49ce-aa4a-fc72f1690466",
        "colab": {
          "base_uri": "https://localhost:8080/",
          "height": 326
        }
      },
      "source": [
        "!wget download https://raw.githubusercontent.com/MochRizkyWijaya/Data-Analyst---Soal-Project-/master/Inflasi_Inflasi.csv"
      ],
      "execution_count": 94,
      "outputs": [
        {
          "output_type": "stream",
          "text": [
            "--2019-09-05 06:05:22--  http://download/\n",
            "Resolving download (download)... failed: No address associated with hostname.\n",
            "wget: unable to resolve host address ‘download’\n",
            "--2019-09-05 06:05:22--  https://raw.githubusercontent.com/MochRizkyWijaya/Data-Analyst---Soal-Project-/master/Inflasi_Inflasi.csv\n",
            "Resolving raw.githubusercontent.com (raw.githubusercontent.com)... 151.101.0.133, 151.101.64.133, 151.101.128.133, ...\n",
            "Connecting to raw.githubusercontent.com (raw.githubusercontent.com)|151.101.0.133|:443... connected.\n",
            "HTTP request sent, awaiting response... 200 OK\n",
            "Length: 3862 (3.8K) [text/plain]\n",
            "Saving to: ‘Inflasi_Inflasi.csv.1’\n",
            "\n",
            "\rInflasi_Inflasi.csv   0%[                    ]       0  --.-KB/s               \rInflasi_Inflasi.csv 100%[===================>]   3.77K  --.-KB/s    in 0s      \n",
            "\n",
            "2019-09-05 06:05:22 (92.7 MB/s) - ‘Inflasi_Inflasi.csv.1’ saved [3862/3862]\n",
            "\n",
            "FINISHED --2019-09-05 06:05:22--\n",
            "Total wall clock time: 0.2s\n",
            "Downloaded: 1 files, 3.8K in 0s (92.7 MB/s)\n"
          ],
          "name": "stdout"
        }
      ]
    },
    {
      "cell_type": "markdown",
      "metadata": {
        "id": "b5X9Vsj0B_Lk",
        "colab_type": "text"
      },
      "source": [
        "Kemudian file 'Inflasi_Inflasi.csv' diimport secara manual ke google colabs"
      ]
    },
    {
      "cell_type": "markdown",
      "metadata": {
        "id": "lrpuFZCAIfvw",
        "colab_type": "text"
      },
      "source": [
        "### Membaca Data"
      ]
    },
    {
      "cell_type": "code",
      "metadata": {
        "id": "mIVtNpvB8SfQ",
        "colab_type": "code",
        "colab": {}
      },
      "source": [
        "data = pd.read_csv('Inflasi_Inflasi.csv')"
      ],
      "execution_count": 0,
      "outputs": []
    },
    {
      "cell_type": "code",
      "metadata": {
        "id": "XV_MNbW6-OZy",
        "colab_type": "code",
        "outputId": "fb1c5a48-9cbe-416f-c64d-536b4f6744a7",
        "colab": {
          "base_uri": "https://localhost:8080/",
          "height": 204
        }
      },
      "source": [
        "data.head()"
      ],
      "execution_count": 5,
      "outputs": [
        {
          "output_type": "execute_result",
          "data": {
            "text/html": [
              "<div>\n",
              "<style scoped>\n",
              "    .dataframe tbody tr th:only-of-type {\n",
              "        vertical-align: middle;\n",
              "    }\n",
              "\n",
              "    .dataframe tbody tr th {\n",
              "        vertical-align: top;\n",
              "    }\n",
              "\n",
              "    .dataframe thead th {\n",
              "        text-align: right;\n",
              "    }\n",
              "</style>\n",
              "<table border=\"1\" class=\"dataframe\">\n",
              "  <thead>\n",
              "    <tr style=\"text-align: right;\">\n",
              "      <th></th>\n",
              "      <th>Month</th>\n",
              "      <th>Inflasi</th>\n",
              "    </tr>\n",
              "  </thead>\n",
              "  <tbody>\n",
              "    <tr>\n",
              "      <th>0</th>\n",
              "      <td>Juni 2019</td>\n",
              "      <td>3.28%</td>\n",
              "    </tr>\n",
              "    <tr>\n",
              "      <th>1</th>\n",
              "      <td>Mei 2019</td>\n",
              "      <td>3.32%</td>\n",
              "    </tr>\n",
              "    <tr>\n",
              "      <th>2</th>\n",
              "      <td>April 2019</td>\n",
              "      <td>2.83%</td>\n",
              "    </tr>\n",
              "    <tr>\n",
              "      <th>3</th>\n",
              "      <td>Maret 2019</td>\n",
              "      <td>2.48%</td>\n",
              "    </tr>\n",
              "    <tr>\n",
              "      <th>4</th>\n",
              "      <td>Februari 2019</td>\n",
              "      <td>2.57%</td>\n",
              "    </tr>\n",
              "  </tbody>\n",
              "</table>\n",
              "</div>"
            ],
            "text/plain": [
              "           Month Inflasi\n",
              "0      Juni 2019   3.28%\n",
              "1       Mei 2019   3.32%\n",
              "2     April 2019   2.83%\n",
              "3     Maret 2019   2.48%\n",
              "4  Februari 2019   2.57%"
            ]
          },
          "metadata": {
            "tags": []
          },
          "execution_count": 5
        }
      ]
    },
    {
      "cell_type": "markdown",
      "metadata": {
        "id": "J3H7yuwtIow5",
        "colab_type": "text"
      },
      "source": [
        "### Mengganti nama kolom"
      ]
    },
    {
      "cell_type": "code",
      "metadata": {
        "id": "5MVlZsEfvB5M",
        "colab_type": "code",
        "outputId": "79c95f50-78cb-40a5-9eff-76d10129c5d5",
        "colab": {
          "base_uri": "https://localhost:8080/",
          "height": 204
        }
      },
      "source": [
        "# Nama kolom 'Inflasi' diganti menjadi 'Inflasi(%)'\n",
        "\n",
        "data.rename(columns = {'Inflasi' : 'Inflasi(%)'},\n",
        "            inplace=True)\n",
        "data.head()"
      ],
      "execution_count": 6,
      "outputs": [
        {
          "output_type": "execute_result",
          "data": {
            "text/html": [
              "<div>\n",
              "<style scoped>\n",
              "    .dataframe tbody tr th:only-of-type {\n",
              "        vertical-align: middle;\n",
              "    }\n",
              "\n",
              "    .dataframe tbody tr th {\n",
              "        vertical-align: top;\n",
              "    }\n",
              "\n",
              "    .dataframe thead th {\n",
              "        text-align: right;\n",
              "    }\n",
              "</style>\n",
              "<table border=\"1\" class=\"dataframe\">\n",
              "  <thead>\n",
              "    <tr style=\"text-align: right;\">\n",
              "      <th></th>\n",
              "      <th>Month</th>\n",
              "      <th>Inflasi(%)</th>\n",
              "    </tr>\n",
              "  </thead>\n",
              "  <tbody>\n",
              "    <tr>\n",
              "      <th>0</th>\n",
              "      <td>Juni 2019</td>\n",
              "      <td>3.28%</td>\n",
              "    </tr>\n",
              "    <tr>\n",
              "      <th>1</th>\n",
              "      <td>Mei 2019</td>\n",
              "      <td>3.32%</td>\n",
              "    </tr>\n",
              "    <tr>\n",
              "      <th>2</th>\n",
              "      <td>April 2019</td>\n",
              "      <td>2.83%</td>\n",
              "    </tr>\n",
              "    <tr>\n",
              "      <th>3</th>\n",
              "      <td>Maret 2019</td>\n",
              "      <td>2.48%</td>\n",
              "    </tr>\n",
              "    <tr>\n",
              "      <th>4</th>\n",
              "      <td>Februari 2019</td>\n",
              "      <td>2.57%</td>\n",
              "    </tr>\n",
              "  </tbody>\n",
              "</table>\n",
              "</div>"
            ],
            "text/plain": [
              "           Month Inflasi(%)\n",
              "0      Juni 2019      3.28%\n",
              "1       Mei 2019      3.32%\n",
              "2     April 2019      2.83%\n",
              "3     Maret 2019      2.48%\n",
              "4  Februari 2019      2.57%"
            ]
          },
          "metadata": {
            "tags": []
          },
          "execution_count": 6
        }
      ]
    },
    {
      "cell_type": "markdown",
      "metadata": {
        "id": "hKKTQ8LcI9yp",
        "colab_type": "text"
      },
      "source": [
        "### Menghapus '(%)' pada kolom Inflasi(%)"
      ]
    },
    {
      "cell_type": "code",
      "metadata": {
        "id": "1cJFA56MwC3Y",
        "colab_type": "code",
        "outputId": "7ee4c675-7bd5-446e-c044-f67adc85fd31",
        "colab": {
          "base_uri": "https://localhost:8080/",
          "height": 204
        }
      },
      "source": [
        "data['Inflasi(%)'] = data['Inflasi(%)'].str.replace('%','')\n",
        "data.head()"
      ],
      "execution_count": 7,
      "outputs": [
        {
          "output_type": "execute_result",
          "data": {
            "text/html": [
              "<div>\n",
              "<style scoped>\n",
              "    .dataframe tbody tr th:only-of-type {\n",
              "        vertical-align: middle;\n",
              "    }\n",
              "\n",
              "    .dataframe tbody tr th {\n",
              "        vertical-align: top;\n",
              "    }\n",
              "\n",
              "    .dataframe thead th {\n",
              "        text-align: right;\n",
              "    }\n",
              "</style>\n",
              "<table border=\"1\" class=\"dataframe\">\n",
              "  <thead>\n",
              "    <tr style=\"text-align: right;\">\n",
              "      <th></th>\n",
              "      <th>Month</th>\n",
              "      <th>Inflasi(%)</th>\n",
              "    </tr>\n",
              "  </thead>\n",
              "  <tbody>\n",
              "    <tr>\n",
              "      <th>0</th>\n",
              "      <td>Juni 2019</td>\n",
              "      <td>3.28</td>\n",
              "    </tr>\n",
              "    <tr>\n",
              "      <th>1</th>\n",
              "      <td>Mei 2019</td>\n",
              "      <td>3.32</td>\n",
              "    </tr>\n",
              "    <tr>\n",
              "      <th>2</th>\n",
              "      <td>April 2019</td>\n",
              "      <td>2.83</td>\n",
              "    </tr>\n",
              "    <tr>\n",
              "      <th>3</th>\n",
              "      <td>Maret 2019</td>\n",
              "      <td>2.48</td>\n",
              "    </tr>\n",
              "    <tr>\n",
              "      <th>4</th>\n",
              "      <td>Februari 2019</td>\n",
              "      <td>2.57</td>\n",
              "    </tr>\n",
              "  </tbody>\n",
              "</table>\n",
              "</div>"
            ],
            "text/plain": [
              "           Month Inflasi(%)\n",
              "0      Juni 2019       3.28\n",
              "1       Mei 2019       3.32\n",
              "2     April 2019       2.83\n",
              "3     Maret 2019       2.48\n",
              "4  Februari 2019       2.57"
            ]
          },
          "metadata": {
            "tags": []
          },
          "execution_count": 7
        }
      ]
    },
    {
      "cell_type": "code",
      "metadata": {
        "id": "zdC5eyJFygoL",
        "colab_type": "code",
        "colab": {}
      },
      "source": [
        "# Mengubah tipe object menjadi float agar dapat dilakukan operasi\n",
        "\n",
        "data['Inflasi(%)'] = data['Inflasi(%)'].astype(float)"
      ],
      "execution_count": 0,
      "outputs": []
    },
    {
      "cell_type": "markdown",
      "metadata": {
        "id": "4ri6htpgJIy8",
        "colab_type": "text"
      },
      "source": [
        "### Pengecekan data"
      ]
    },
    {
      "cell_type": "code",
      "metadata": {
        "id": "DVZ537HSAm6n",
        "colab_type": "code",
        "outputId": "510fafd2-3c5f-4970-ce9b-36ab4af97ab7",
        "colab": {
          "base_uri": "https://localhost:8080/",
          "height": 68
        }
      },
      "source": [
        "# Mengecek data apakah ada data yang kosong\n",
        "# Jika ada data yang kosong maka perlu dilakukan pembersihan dan sorting data\n",
        "\n",
        "check_data = data.isnull().sum()\n",
        "check_data"
      ],
      "execution_count": 9,
      "outputs": [
        {
          "output_type": "execute_result",
          "data": {
            "text/plain": [
              "Month         0\n",
              "Inflasi(%)    0\n",
              "dtype: int64"
            ]
          },
          "metadata": {
            "tags": []
          },
          "execution_count": 9
        }
      ]
    },
    {
      "cell_type": "markdown",
      "metadata": {
        "id": "VvBxEYTcJaFv",
        "colab_type": "text"
      },
      "source": [
        "### Pengubahan kolom \"Month\" menjadi format tanggal"
      ]
    },
    {
      "cell_type": "code",
      "metadata": {
        "id": "1s5JKAKMh5OJ",
        "colab_type": "code",
        "outputId": "780baf7f-2e69-46e2-b09f-a9f82e0ab754",
        "colab": {
          "base_uri": "https://localhost:8080/",
          "height": 421
        }
      },
      "source": [
        "data['Month'] = data['Month'].str.replace('Januari','01-01-')\n",
        "data['Month'] = data['Month'].str.replace('Februari','02-01-')\n",
        "data['Month'] = data['Month'].str.replace('Maret','03-01-')\n",
        "data['Month'] = data['Month'].str.replace('April','04-01-')\n",
        "data['Month'] = data['Month'].str.replace('Mei','05-01-')\n",
        "data['Month'] = data['Month'].str.replace('Juni','06-01-')\n",
        "data['Month'] = data['Month'].str.replace('Juli','07-01-')\n",
        "data['Month'] = data['Month'].str.replace('Agustus','08-01-')\n",
        "data['Month'] = data['Month'].str.replace('September','09-01-')\n",
        "data['Month'] = data['Month'].str.replace('Oktober','10-01-')\n",
        "data['Month'] = data['Month'].str.replace('Nopember','11-01-')\n",
        "data['Month'] = data['Month'].str.replace('Desember','12-01-')\n",
        "data.head(12)"
      ],
      "execution_count": 10,
      "outputs": [
        {
          "output_type": "execute_result",
          "data": {
            "text/html": [
              "<div>\n",
              "<style scoped>\n",
              "    .dataframe tbody tr th:only-of-type {\n",
              "        vertical-align: middle;\n",
              "    }\n",
              "\n",
              "    .dataframe tbody tr th {\n",
              "        vertical-align: top;\n",
              "    }\n",
              "\n",
              "    .dataframe thead th {\n",
              "        text-align: right;\n",
              "    }\n",
              "</style>\n",
              "<table border=\"1\" class=\"dataframe\">\n",
              "  <thead>\n",
              "    <tr style=\"text-align: right;\">\n",
              "      <th></th>\n",
              "      <th>Month</th>\n",
              "      <th>Inflasi(%)</th>\n",
              "    </tr>\n",
              "  </thead>\n",
              "  <tbody>\n",
              "    <tr>\n",
              "      <th>0</th>\n",
              "      <td>06-01- 2019</td>\n",
              "      <td>3.28</td>\n",
              "    </tr>\n",
              "    <tr>\n",
              "      <th>1</th>\n",
              "      <td>05-01- 2019</td>\n",
              "      <td>3.32</td>\n",
              "    </tr>\n",
              "    <tr>\n",
              "      <th>2</th>\n",
              "      <td>04-01- 2019</td>\n",
              "      <td>2.83</td>\n",
              "    </tr>\n",
              "    <tr>\n",
              "      <th>3</th>\n",
              "      <td>03-01- 2019</td>\n",
              "      <td>2.48</td>\n",
              "    </tr>\n",
              "    <tr>\n",
              "      <th>4</th>\n",
              "      <td>02-01- 2019</td>\n",
              "      <td>2.57</td>\n",
              "    </tr>\n",
              "    <tr>\n",
              "      <th>5</th>\n",
              "      <td>01-01- 2019</td>\n",
              "      <td>2.82</td>\n",
              "    </tr>\n",
              "    <tr>\n",
              "      <th>6</th>\n",
              "      <td>12-01- 2018</td>\n",
              "      <td>3.13</td>\n",
              "    </tr>\n",
              "    <tr>\n",
              "      <th>7</th>\n",
              "      <td>11-01- 2018</td>\n",
              "      <td>3.23</td>\n",
              "    </tr>\n",
              "    <tr>\n",
              "      <th>8</th>\n",
              "      <td>10-01- 2018</td>\n",
              "      <td>3.16</td>\n",
              "    </tr>\n",
              "    <tr>\n",
              "      <th>9</th>\n",
              "      <td>09-01- 2018</td>\n",
              "      <td>2.88</td>\n",
              "    </tr>\n",
              "    <tr>\n",
              "      <th>10</th>\n",
              "      <td>08-01- 2018</td>\n",
              "      <td>3.20</td>\n",
              "    </tr>\n",
              "    <tr>\n",
              "      <th>11</th>\n",
              "      <td>07-01- 2018</td>\n",
              "      <td>3.18</td>\n",
              "    </tr>\n",
              "  </tbody>\n",
              "</table>\n",
              "</div>"
            ],
            "text/plain": [
              "          Month  Inflasi(%)\n",
              "0   06-01- 2019        3.28\n",
              "1   05-01- 2019        3.32\n",
              "2   04-01- 2019        2.83\n",
              "3   03-01- 2019        2.48\n",
              "4   02-01- 2019        2.57\n",
              "5   01-01- 2019        2.82\n",
              "6   12-01- 2018        3.13\n",
              "7   11-01- 2018        3.23\n",
              "8   10-01- 2018        3.16\n",
              "9   09-01- 2018        2.88\n",
              "10  08-01- 2018        3.20\n",
              "11  07-01- 2018        3.18"
            ]
          },
          "metadata": {
            "tags": []
          },
          "execution_count": 10
        }
      ]
    },
    {
      "cell_type": "code",
      "metadata": {
        "id": "DT3BBziisHid",
        "colab_type": "code",
        "colab": {}
      },
      "source": [
        "# Pengubahan data bulan dan tahun menjadi format\n",
        "data['Month'] =  pd.to_datetime(data['Month'], format='%m-%d- %Y')"
      ],
      "execution_count": 0,
      "outputs": []
    },
    {
      "cell_type": "code",
      "metadata": {
        "id": "xa8xZnC5syFY",
        "colab_type": "code",
        "colab": {}
      },
      "source": [
        "# Regresi linier \n",
        "\n",
        "def reg(years, temps):\n",
        "  x = np.asarray(years).reshape(-1, 1)\n",
        "  y = np.asarray(temps)\n",
        "  model = LinearRegression()\n",
        "  model.fit(x, y)\n",
        "  intercept = model.intercept_\n",
        "  slope = model.coef_\n",
        "  prediction = model.predict(x)\n",
        "  return prediction, slope, intercept"
      ],
      "execution_count": 0,
      "outputs": []
    },
    {
      "cell_type": "code",
      "metadata": {
        "id": "1Dhj29Ndl8r7",
        "colab_type": "code",
        "outputId": "834dd86b-cf05-4e72-a647-213da5a7bf06",
        "colab": {
          "base_uri": "https://localhost:8080/",
          "height": 538
        }
      },
      "source": [
        "# Memilih beberapa kolom yang diperlukan\n",
        "data = data[['Month', 'Inflasi(%)']]\n",
        "\n",
        "data['Month'] = pd.to_datetime(data['Month'])\n",
        "data['Year'] = data['Month'].map(lambda x: x.year)\n",
        "data['Month'] = data['Month'].map(lambda x: x.month)\n",
        "\n",
        "# Pengelompokan bulan berdasarkan triwulan\n",
        "# Triwulan pertama (Januari, Februari, Maret)\n",
        "# Triwulan kedua (April, Mei, Juni)\n",
        "# Triwulan ketiga (Juli, Agustus, September)\n",
        "# Triwulan keempat (Oktober, Nopember, Desember)\n",
        "\n",
        "def get_triwulan(mounth):\n",
        "    if mounth >= 1 and mounth <= 3:\n",
        "        return 'triwulan1'\n",
        "    elif mounth >= 4 and mounth <= 6:\n",
        "        return 'triwulan2'\n",
        "    elif mounth >= 7 and mounth <= 9:\n",
        "        return 'triwulan3'\n",
        "    else:\n",
        "        return 'triwulan4'\n",
        "\n",
        "# Rentang tahun yang digunakan \n",
        "# Tahun 2002 tidak digunakan karena hanya mengandung bulan Desember saja \n",
        "# Padahal analisis triwulan berdasarkan 3 bulan \n",
        "\n",
        "min_year = 2003\n",
        "max_year = 2019\n",
        "years = range(min_year, max_year)\n",
        "\n",
        "# Menambahkan kolom triwulan\n",
        "\n",
        "data['triwulan'] = data['Month'].apply(get_triwulan)\n",
        "\n",
        "triwulan1 = []\n",
        "triwulan2 = []\n",
        "triwulan3 = []\n",
        "triwulan4 = []\n",
        "\n",
        "for year in years:\n",
        "    years_data = data[data['Year'] == year]\n",
        "    triwulan1.append(years_data[years_data['triwulan'] == 'triwulan1']['Inflasi(%)'].mean())\n",
        "    triwulan2.append(years_data[years_data['triwulan'] == 'triwulan2']['Inflasi(%)'].mean())\n",
        "    triwulan3.append(years_data[years_data['triwulan'] == 'triwulan3']['Inflasi(%)'].mean())\n",
        "    triwulan4.append(years_data[years_data['triwulan'] == 'triwulan4']['Inflasi(%)'].mean())\n",
        "\n",
        "# Regresi Linier\n",
        "pred_triwulan1, b1_triwulan1, b0_triwulan1 = reg(years, triwulan1)\n",
        "pred_triwulan2, b1_triwulan2, b0_triwulan2 = reg(years, triwulan2)\n",
        "pred_triwulan3, b1_triwulan3, b0_triwulan3 = reg(years, triwulan3)\n",
        "pred_triwulan4, b1_triwulan4, b0_triwulan4 = reg(years, triwulan4)\n",
        "\n",
        "# Plot\n",
        "sns.set(style=\"whitegrid\")\n",
        "sns.set_color_codes(\"pastel\")\n",
        "\n",
        "f, ax = plt.subplots(figsize=(10, 8))\n",
        "\n",
        "plt.plot(years, triwulan1, label='Rata-rata inflasi triwulan 1 (Januari, Februari, Maret)', color='orange')\n",
        "plt.plot(years, triwulan2, label='Rata-rata inflasi triwulan 2 (April, Mei, Juni)', color='r')\n",
        "plt.plot(years, triwulan3, label='Rata-rata inflasi triwulan 3 (Juli, Agustus, September)', color='g')\n",
        "plt.plot(years, triwulan4, label='Rata-rata inflasi triwulan 4 (Oktober, November, Desember)', color='k')\n",
        "plt.plot(years, pred_triwulan1, color='orange', linestyle='--')\n",
        "plt.plot(years, pred_triwulan2, color='r', linestyle='--')\n",
        "plt.plot(years, pred_triwulan3, color='g', linestyle='--')\n",
        "plt.plot(years, pred_triwulan4, color='k', linestyle='--')\n",
        "\n",
        "plt.xlim(min_year, max_year)\n",
        "\n",
        "ax.set_ylabel('Rata-rata Inflasi (%)')\n",
        "ax.set_xlabel('Tahun')\n",
        "ax.set_title('Rata-rata Inflasi dari tahun 2004 - 2019')\n",
        "legend = plt.legend(loc='center left', bbox_to_anchor=(1, 0.5), frameon=True, borderpad=1, borderaxespad=1)"
      ],
      "execution_count": 13,
      "outputs": [
        {
          "output_type": "display_data",
          "data": {
            "image/png": "[encoded data removed]",
            "text/plain": [
              "<Figure size 720x576 with 1 Axes>"
            ]
          },
          "metadata": {
            "tags": []
          }
        }
      ]
    },
    {
      "cell_type": "code",
      "metadata": {
        "id": "35e5XFn7Lolb",
        "colab_type": "code",
        "outputId": "06d0f78a-71af-4011-8971-5314db4d1ae1",
        "colab": {
          "base_uri": "https://localhost:8080/",
          "height": 85
        }
      },
      "source": [
        "print('Perubahan gradien rata-rata inflasi pertahun pada triwulan 1 : %.5f' %b1_triwulan1[0])\n",
        "print('Perubahan gradien rata-rata inflasi pertahun pada triwulan 2 : %.5f' %b1_triwulan2[0])\n",
        "print('Perubahan gradien rata-rata inflasi pertahun pada triwulan 3 : %.5f' %b1_triwulan3[0])\n",
        "print('Perubahan gradien rata-rata inflasi pertahun pada triwulan 4 : %.5f' %b1_triwulan4[0])"
      ],
      "execution_count": 14,
      "outputs": [
        {
          "output_type": "stream",
          "text": [
            "Perubahan gradien rata-rata inflasi pertahun pada triwulan 1 : -0.33523\n",
            "Perubahan gradien rata-rata inflasi pertahun pada triwulan 2 : -0.33298\n",
            "Perubahan gradien rata-rata inflasi pertahun pada triwulan 3 : -0.35958\n",
            "Perubahan gradien rata-rata inflasi pertahun pada triwulan 4 : -0.38073\n"
          ],
          "name": "stdout"
        }
      ]
    },
    {
      "cell_type": "markdown",
      "metadata": {
        "id": "o-1kCax_6wcJ",
        "colab_type": "text"
      },
      "source": [
        "# Analisis Prediktif"
      ]
    },
    {
      "cell_type": "markdown",
      "metadata": {
        "id": "BKjTOOqfHxPy",
        "colab_type": "text"
      },
      "source": [
        "### Pembahasan Grafik\n",
        "\n",
        "\n",
        "> **Regresi Linier** : regresi linier pada rata-rata inflasi triwulan 1, triwulan 2, triwulan 3, dan triwulan 4 menunjukkan trend penurunan seiring bertambahnya tahun atau waktu. \n",
        "\n",
        "> **Perubahan gradien** : Rata-rata inflasi setiap triwulan berdasarkan tahun cukup sulit dimengerti jika dilihat secara visual saja. Sehingga berdasarkan regresi linier dapat diketahui perubahan gradien rata-rata inflasi pertahun pada masing-masing triwulan. Perubahan gradien rata-rata inflasi pertahun paling kecil adalah triwulan 4. Hal tersebut menunjukkan bahwa penurunan rata-rata inflasi pertahun paling besar adalah pada triwulan 4. Perubahan gradien tersebut dapat dijadikan acuan untuk **memprediksi** rata-rata inflasi terhadap tahun (waktu) selanjutnya. Mengacu terhadap perubahan gradien, bahwa untuk tahun selanjutnya, **penurunan rata-rata Inflasi(%) paling besar adalah pada triwulan 4**.\n",
        "\n",
        "\n",
        "\n"
      ]
    },
    {
      "cell_type": "code",
      "metadata": {
        "id": "d6Uu65lk0n-O",
        "colab_type": "code",
        "outputId": "fe618e0d-43f2-41b1-be70-a836faa6c926",
        "colab": {
          "base_uri": "https://localhost:8080/",
          "height": 204
        }
      },
      "source": [
        "data.head()"
      ],
      "execution_count": 15,
      "outputs": [
        {
          "output_type": "execute_result",
          "data": {
            "text/html": [
              "<div>\n",
              "<style scoped>\n",
              "    .dataframe tbody tr th:only-of-type {\n",
              "        vertical-align: middle;\n",
              "    }\n",
              "\n",
              "    .dataframe tbody tr th {\n",
              "        vertical-align: top;\n",
              "    }\n",
              "\n",
              "    .dataframe thead th {\n",
              "        text-align: right;\n",
              "    }\n",
              "</style>\n",
              "<table border=\"1\" class=\"dataframe\">\n",
              "  <thead>\n",
              "    <tr style=\"text-align: right;\">\n",
              "      <th></th>\n",
              "      <th>Month</th>\n",
              "      <th>Inflasi(%)</th>\n",
              "      <th>Year</th>\n",
              "      <th>triwulan</th>\n",
              "    </tr>\n",
              "  </thead>\n",
              "  <tbody>\n",
              "    <tr>\n",
              "      <th>0</th>\n",
              "      <td>6</td>\n",
              "      <td>3.28</td>\n",
              "      <td>2019</td>\n",
              "      <td>triwulan2</td>\n",
              "    </tr>\n",
              "    <tr>\n",
              "      <th>1</th>\n",
              "      <td>5</td>\n",
              "      <td>3.32</td>\n",
              "      <td>2019</td>\n",
              "      <td>triwulan2</td>\n",
              "    </tr>\n",
              "    <tr>\n",
              "      <th>2</th>\n",
              "      <td>4</td>\n",
              "      <td>2.83</td>\n",
              "      <td>2019</td>\n",
              "      <td>triwulan2</td>\n",
              "    </tr>\n",
              "    <tr>\n",
              "      <th>3</th>\n",
              "      <td>3</td>\n",
              "      <td>2.48</td>\n",
              "      <td>2019</td>\n",
              "      <td>triwulan1</td>\n",
              "    </tr>\n",
              "    <tr>\n",
              "      <th>4</th>\n",
              "      <td>2</td>\n",
              "      <td>2.57</td>\n",
              "      <td>2019</td>\n",
              "      <td>triwulan1</td>\n",
              "    </tr>\n",
              "  </tbody>\n",
              "</table>\n",
              "</div>"
            ],
            "text/plain": [
              "   Month  Inflasi(%)  Year   triwulan\n",
              "0      6        3.28  2019  triwulan2\n",
              "1      5        3.32  2019  triwulan2\n",
              "2      4        2.83  2019  triwulan2\n",
              "3      3        2.48  2019  triwulan1\n",
              "4      2        2.57  2019  triwulan1"
            ]
          },
          "metadata": {
            "tags": []
          },
          "execution_count": 15
        }
      ]
    },
    {
      "cell_type": "markdown",
      "metadata": {
        "id": "GchTnqvlrMpY",
        "colab_type": "text"
      },
      "source": [
        "# Nilai Korelasi\n",
        "\n",
        "> Berdasarkan grafik rata-rata inflasi(%) per tahun dengan waktu (tahun), tampak bahwa regresi linier menunjukkan kemiringan negatif. Sehingga dapat menggunakan koefisien korelasi untuk menentukan hubungan linier kedua variabel tersebut. Namun, koefisien korelasi disini, hanya menjelaskan kekuatan hubungan tanpa memperhatikan hubungan sebab akibat. \n",
        "\n",
        "> Pada analisis grafik tersebut, digunakan korelasi pearson, karena terdapat hubungan linier dari dua variabel. Namun apabila bila data mengandung banyak data pencilan dan non linier maka dapat digunakan korelasi Spearman. \n",
        "\n",
        "> **Nilai korelasi pearson** pada tabel menunjukkan bahwa **nilai negatif** korelasi pearson hanya mengindikasikan bahwa pengingkatan variabel tahun tidak sebanding dengan peningkatan variabel rata-rata inflasi **(antagonis)**. Sehingga nilai korelasi negatif tidak digunakan untuk menentukan ukuran sebuah nilai. \n",
        "\n",
        "Berdasarkan uji korelasi pearson, kekuatan korelasi variabel **inflasi(%)** dengan variabel **Year** yaitu **0.493550**\tyang mengindikasikan korelasi cukup (0,25-0,50) Selain itu, nilai korelasi ini juga merupakan nilai korelasi tertinggi jika dibandingkan dengan 2 variabel yang berbeda lainnya. Seperti **Inflasi(%) dengan Month** dan **Month dengan Year** \n",
        "\n",
        "\n",
        "\n",
        "\n"
      ]
    },
    {
      "cell_type": "code",
      "metadata": {
        "id": "op7QVqPgiqaf",
        "colab_type": "code",
        "colab": {
          "base_uri": "https://localhost:8080/",
          "height": 142
        },
        "outputId": "98d18221-fa51-4389-dff6-4cef364da494"
      },
      "source": [
        "data.corr(method='pearson')"
      ],
      "execution_count": 16,
      "outputs": [
        {
          "output_type": "execute_result",
          "data": {
            "text/html": [
              "<div>\n",
              "<style scoped>\n",
              "    .dataframe tbody tr th:only-of-type {\n",
              "        vertical-align: middle;\n",
              "    }\n",
              "\n",
              "    .dataframe tbody tr th {\n",
              "        vertical-align: top;\n",
              "    }\n",
              "\n",
              "    .dataframe thead th {\n",
              "        text-align: right;\n",
              "    }\n",
              "</style>\n",
              "<table border=\"1\" class=\"dataframe\">\n",
              "  <thead>\n",
              "    <tr style=\"text-align: right;\">\n",
              "      <th></th>\n",
              "      <th>Month</th>\n",
              "      <th>Inflasi(%)</th>\n",
              "      <th>Year</th>\n",
              "    </tr>\n",
              "  </thead>\n",
              "  <tbody>\n",
              "    <tr>\n",
              "      <th>Month</th>\n",
              "      <td>1.000000</td>\n",
              "      <td>-0.014544</td>\n",
              "      <td>-0.059602</td>\n",
              "    </tr>\n",
              "    <tr>\n",
              "      <th>Inflasi(%)</th>\n",
              "      <td>-0.014544</td>\n",
              "      <td>1.000000</td>\n",
              "      <td>-0.493550</td>\n",
              "    </tr>\n",
              "    <tr>\n",
              "      <th>Year</th>\n",
              "      <td>-0.059602</td>\n",
              "      <td>-0.493550</td>\n",
              "      <td>1.000000</td>\n",
              "    </tr>\n",
              "  </tbody>\n",
              "</table>\n",
              "</div>"
            ],
            "text/plain": [
              "               Month  Inflasi(%)      Year\n",
              "Month       1.000000   -0.014544 -0.059602\n",
              "Inflasi(%) -0.014544    1.000000 -0.493550\n",
              "Year       -0.059602   -0.493550  1.000000"
            ]
          },
          "metadata": {
            "tags": []
          },
          "execution_count": 16
        }
      ]
    },
    {
      "cell_type": "markdown",
      "metadata": {
        "id": "2t-9vJ6oS41c",
        "colab_type": "text"
      },
      "source": [
        "## Analisis Deskriptif"
      ]
    },
    {
      "cell_type": "code",
      "metadata": {
        "id": "ySrLywwg0-nq",
        "colab_type": "code",
        "colab": {
          "base_uri": "https://localhost:8080/",
          "height": 221
        },
        "outputId": "bd0cc542-2516-4b43-a548-fc8e29dcc786"
      },
      "source": [
        "# Tabel A\n",
        "\n",
        "print (data.describe(include='all'))"
      ],
      "execution_count": 17,
      "outputs": [
        {
          "output_type": "stream",
          "text": [
            "             Month  Inflasi(%)         Year   triwulan\n",
            "count   199.000000  199.000000   199.000000        199\n",
            "unique         NaN         NaN          NaN          4\n",
            "top            NaN         NaN          NaN  triwulan2\n",
            "freq           NaN         NaN          NaN         51\n",
            "mean      6.437186    6.314724  2010.713568        NaN\n",
            "std       3.473540    3.316154     4.807755        NaN\n",
            "min       1.000000    0.000000  2002.000000        NaN\n",
            "25%       3.000000    3.855000  2007.000000        NaN\n",
            "50%       6.000000    6.040000  2011.000000        NaN\n",
            "75%       9.000000    7.285000  2015.000000        NaN\n",
            "max      12.000000   18.380000  2019.000000        NaN\n"
          ],
          "name": "stdout"
        }
      ]
    },
    {
      "cell_type": "code",
      "metadata": {
        "id": "yi4z0c7bUHzu",
        "colab_type": "code",
        "outputId": "837a2ecb-a34f-4f48-c9dc-9f136599b3e3",
        "colab": {
          "base_uri": "https://localhost:8080/",
          "height": 34
        }
      },
      "source": [
        "# Median inflasi mulai Desember 2002 sampai Juni 2019\n",
        "data['Inflasi(%)'].median()"
      ],
      "execution_count": 18,
      "outputs": [
        {
          "output_type": "execute_result",
          "data": {
            "text/plain": [
              "6.04"
            ]
          },
          "metadata": {
            "tags": []
          },
          "execution_count": 18
        }
      ]
    },
    {
      "cell_type": "code",
      "metadata": {
        "id": "Dw09avZBVTEr",
        "colab_type": "code",
        "outputId": "3bfd83ed-0790-4294-d4ee-182f98045026",
        "colab": {
          "base_uri": "https://localhost:8080/",
          "height": 119
        }
      },
      "source": [
        "# Modus inflasi mulai Desember 2002 sampai Juni 2019\n",
        "data['Inflasi(%)'].mode()"
      ],
      "execution_count": 19,
      "outputs": [
        {
          "output_type": "execute_result",
          "data": {
            "text/plain": [
              "0    4.53\n",
              "1    4.61\n",
              "2    6.29\n",
              "3    7.15\n",
              "4    7.32\n",
              "dtype: float64"
            ]
          },
          "metadata": {
            "tags": []
          },
          "execution_count": 19
        }
      ]
    },
    {
      "cell_type": "markdown",
      "metadata": {
        "id": "gYlGNdPt2eEZ",
        "colab_type": "text"
      },
      "source": [
        "### Pembahasan Analisis Deskriptif\n",
        "\n",
        "Pada analisis deskriptif sesuai tabel A menunjukkan bahwa tabel data telah dilakukan perhitungan dengan fungsi :\n",
        "\n",
        "> **mean** : merupakan rata-rata dari setiap kolom. Pada kolom bulan, dilakukan perubahan ke dalam bentuk angka (datetime). Informasi mean pada kolom Month dan Year tidak memiliki makna, karena data bulan dan tahun merupakan bentuk time series. Analisis deskriptif mean yang memiliki makna adalah 'Inflasi(%)' yang bernilai **6.314724**. \n",
        "\n",
        "> **std** : merupakan fungsi yang digunakan untuk mencari nilai standar deviasi. Standar deviasi digunakan untuk mengetahui apakah sampel data yang diambil mewakili seluruh populasi data, selain itu standar deviasi digunakan untuk mengetahui penyimpangan antara data sampel dengan rata-ratanya. Semakin besar nilai standar deviasi yang didapatkan maka menunjukkan semakin besar juga penyimpangannya. Sehingga, semakin kecil nilai standar deviasi maka akan semakin baik, karena akan semakin kecil penyimpangannya. Standar deviasi yang memiliki makna adalah standar deviasi kolom 'Inflasi(%)' yaitu **3.316154**. \n",
        "\n",
        "> **min & max** : Fungsi min & max digunakan untuk mengetahui range (jarak) data atau nilai maksmimum dan nilai minimum data. Nilai minimum inflasi (%) adalah 0 dan nilai maksmimumnya adalah 18.380000. Sedangkan data time yaitu data pada kolom 'Month' memiliki nilai minimum 1 (Januari) dan nilai maksimum 12 (Desember) serta 'Year' memiliki nilai minimum 2002 dan nilai maksimum 2019. \n",
        "\n",
        "> **count** : Fungsi count digunakan untuk menentukan jumlah baris data observasi yang tidak kosong pada kolom. Fungsi ini penting untuk mengecek apakah jumlah baris pada kolom satu dengan lainnya sama atau tidak, karena pada data time series bila jumlah baris pada kolom inflasi(%) dengan kolom Month dan Year tidak sama, maka perlu dilakukan pemilahan data terlebih dahulu. Namun berdasarkan analisis deskriptif didapatkan jumlah baris pada masing-masing kolom sama yaitu **199** sehingga tidak perlu lagi dilakukan pemilahan data. \n",
        "\n",
        "> **unique** : fungsi unique digunakan untuk menghitung jumlah string pada kolom yang berbeda, sehingga tipe data numerik tidak dilakukan perhitungan. Hasil analisis deskriptif fungsi unique menunjukkan kolom triwulan memiliki 4 karakter string yang berbeda yaitu triwulan1, triwulan2, triwulan3, dan triwulan4.\n",
        "\n",
        "\n",
        "\n",
        "\n",
        "\n",
        "\n",
        "\n",
        "\n",
        "\n",
        "\n",
        "\n",
        "\n",
        "\n",
        "\n"
      ]
    }
  ]
}